{
 "cells": [
  {
   "cell_type": "code",
   "execution_count": 1,
   "metadata": {},
   "outputs": [],
   "source": [
    "import pandas as pd\n",
    "\n",
    "total_traces = 9\n",
    "\n",
    "#txt_filename = \"vgg19_arch.txt\"\n",
    "#csv_filename = \"_vgg19_list1_data.csv\"\n",
    "\n",
    "#txt_filename = \"mobilenet_arch.txt\"\n",
    "#csv_filename = \"_mobilenet_list1_data.csv\"\n",
    "\n",
    "#txt_filename = \"densenet_arch.txt\"\n",
    "#csv_filename = \"_densenet_list1_data.csv\"\n",
    "\n",
    "\n",
    "txt_filename = \"vgg16_arch.txt\"\n",
    "csv_filename = \"_vgg16_list1_data.csv\"\n",
    "\n",
    "#txt_filename = \"resnet_arch.txt\"\n",
    "#csv_filename = \"_resnet_list1_data.csv\"\n",
    "\n",
    "#txt_filename = \"alexnet_arch.txt\"\n",
    "#csv_filename = \"_alexnet_list1_data.csv\"\n",
    "\n",
    "\n",
    "wordlist = list()\n",
    "layerlist = list()\n",
    "\n",
    "layers = {'(InputLayer)': 0, '(Lambda)': 0,\n",
    "          '(MaxPooling2D)': 900, '(GlobalAveragePooling2D)': 910,\n",
    "          '(Dense)': 500, '(Flatten)': 400, '(Dropout)': 700, '(Conv2D)': 600,\n",
    "          '(BatchNormalization)': 200, '(Activation)': 300, '(ReLU)': 310,\n",
    "          '(ZeroPadding2D)':920, '(Concatenate)': 800,\n",
    "          '(DepthwiseConv2D)': 610, '(Add)': 100, '(Reshape)': 110\n",
    "         }"
   ]
  },
  {
   "cell_type": "code",
   "execution_count": 2,
   "metadata": {},
   "outputs": [],
   "source": [
    "with open('data/'+txt_filename, \"r\") as file:\n",
    "    data = file.readlines()\n",
    "    \n",
    "    i = 0\n",
    "    for line in data:\n",
    "        word = line.split()\n",
    "        if(i%2 == 0):\n",
    "            if(len(word)>1):\n",
    "                s = word[0] + \" \" + word[1]\n",
    "            else:\n",
    "                s = word[0]\n",
    "\n",
    "            wordlist.append(s)\n",
    "        i= i+1"
   ]
  },
  {
   "cell_type": "code",
   "execution_count": 3,
   "metadata": {},
   "outputs": [],
   "source": [
    "wordlist.pop(0)\n",
    "wordlist.pop(0)\n",
    "wordlist.pop(0)\n",
    "n = len(wordlist)"
   ]
  },
  {
   "cell_type": "code",
   "execution_count": 4,
   "metadata": {},
   "outputs": [
    {
     "name": "stdout",
     "output_type": "stream",
     "text": [
      "['lambda (Lambda)', 'conv2d (Conv2D)', 'lambda_1 (Lambda)', 'conv2d_1 (Conv2D)', 'lambda_2 (Lambda)', 'max_pooling2d (MaxPooling2D)', 'lambda_3 (Lambda)', 'conv2d_2 (Conv2D)', 'lambda_4 (Lambda)', 'conv2d_3 (Conv2D)', 'lambda_5 (Lambda)', 'max_pooling2d_1 (MaxPooling2D)', 'lambda_6 (Lambda)', 'conv2d_4 (Conv2D)', 'lambda_7 (Lambda)', 'conv2d_5 (Conv2D)', 'lambda_8 (Lambda)', 'conv2d_6 (Conv2D)', 'lambda_9 (Lambda)', 'max_pooling2d_2 (MaxPooling2D)', 'lambda_10 (Lambda)', 'conv2d_7 (Conv2D)', 'lambda_11 (Lambda)', 'conv2d_8 (Conv2D)', 'lambda_12 (Lambda)', 'conv2d_9 (Conv2D)', 'lambda_13 (Lambda)', 'max_pooling2d_3 (MaxPooling2D)', 'lambda_14 (Lambda)', 'conv2d_10 (Conv2D)', 'lambda_15 (Lambda)', 'conv2d_11 (Conv2D)', 'lambda_16 (Lambda)', 'conv2d_12 (Conv2D)', 'lambda_17 (Lambda)', 'max_pooling2d_4 (MaxPooling2D)', 'lambda_18 (Lambda)', 'flatten (Flatten)', 'lambda_19 (Lambda)', 'dense (Dense)', 'lambda_20 (Lambda)', 'dropout (Dropout)', 'lambda_21 (Lambda)', 'dense_1 (Dense)', 'lambda_22 (Lambda)', 'dropout_1 (Dropout)', 'lambda_23 (Lambda)', 'dense_2 (Dense)', 'lambda_24 (Lambda)']\n"
     ]
    }
   ],
   "source": [
    "wordlist.pop(n-1)\n",
    "wordlist.pop(n-2)\n",
    "wordlist.pop(n-3)\n",
    "print(wordlist)"
   ]
  },
  {
   "cell_type": "code",
   "execution_count": 5,
   "metadata": {},
   "outputs": [
    {
     "name": "stdout",
     "output_type": "stream",
     "text": [
      "{'(InputLayer)': 0, '(Lambda)': 0, '(MaxPooling2D)': 900, '(GlobalAveragePooling2D)': 910, '(Dense)': 500, '(Flatten)': 400, '(Dropout)': 700, '(Conv2D)': 600, '(BatchNormalization)': 200, '(Activation)': 300, '(ReLU)': 310, '(ZeroPadding2D)': 920, '(Concatenate)': 800, '(DepthwiseConv2D)': 610, '(Add)': 100, '(Reshape)': 110}\n",
      "['(Conv2D)', '(Conv2D)', '(MaxPooling2D)', '(Conv2D)', '(Conv2D)', '(MaxPooling2D)', '(Conv2D)', '(Conv2D)', '(Conv2D)', '(MaxPooling2D)', '(Conv2D)', '(Conv2D)', '(Conv2D)', '(MaxPooling2D)', '(Conv2D)', '(Conv2D)', '(Conv2D)', '(MaxPooling2D)', '(Flatten)', '(Dense)', '(Dropout)', '(Dense)', '(Dropout)', '(Dense)']\n"
     ]
    }
   ],
   "source": [
    "\n",
    "j = 1\n",
    "for i in range(len(wordlist)):\n",
    "    w = wordlist[i].split()\n",
    "    if(w[1] != \"(Lambda)\"):\n",
    "        layerlist.append(w[1])\n",
    "    if w[1] in layers:\n",
    "        pass\n",
    "    else:\n",
    "        layers[w[1]] = j\n",
    "        j = j + 1\n",
    "\n",
    "print(layers)\n",
    "\n",
    "print(layerlist)\n"
   ]
  },
  {
   "cell_type": "code",
   "execution_count": 6,
   "metadata": {},
   "outputs": [
    {
     "name": "stderr",
     "output_type": "stream",
     "text": [
      "<ipython-input-6-554d6b5d6a4f>:15: SettingWithCopyWarning: \n",
      "A value is trying to be set on a copy of a slice from a DataFrame\n",
      "\n",
      "See the caveats in the documentation: https://pandas.pydata.org/pandas-docs/stable/user_guide/indexing.html#returning-a-view-versus-a-copy\n",
      "  df[\"label\"][n] = 0\n",
      "<ipython-input-6-554d6b5d6a4f>:25: SettingWithCopyWarning: \n",
      "A value is trying to be set on a copy of a slice from a DataFrame\n",
      "\n",
      "See the caveats in the documentation: https://pandas.pydata.org/pandas-docs/stable/user_guide/indexing.html#returning-a-view-versus-a-copy\n",
      "  df[\"label\"][n] = layers[l]\n",
      "<ipython-input-6-554d6b5d6a4f>:29: SettingWithCopyWarning: \n",
      "A value is trying to be set on a copy of a slice from a DataFrame\n",
      "\n",
      "See the caveats in the documentation: https://pandas.pydata.org/pandas-docs/stable/user_guide/indexing.html#returning-a-view-versus-a-copy\n",
      "  df[\"label\"][n] = 0\n"
     ]
    }
   ],
   "source": [
    "for i in range(total_traces):\n",
    "    df = pd.read_csv(\"data/split/\"+str(i+1)+csv_filename)\n",
    "    df[\"label\"] = \"\"\n",
    "    r = len(df[\"branches\"])\n",
    "    #print(r)\n",
    "    flag = -1\n",
    "    c = 0\n",
    "    d = 1\n",
    "\n",
    "    flagmax = len(layerlist)\n",
    "\n",
    "    for n in range(r):\n",
    "        val = df[\"branches\"][n] + df[\"cache_misses\"][n] + df[\"cache_references\"][n] + df[\"instructions\"][n]\n",
    "        if(val == 0):\n",
    "            df[\"label\"][n] = 0\n",
    "            c = c + 1\n",
    "            if c > 100 and d == 1:\n",
    "                flag = flag + 1\n",
    "                d = 0\n",
    "                #print(flag, n)\n",
    "                c = 0\n",
    "        else:\n",
    "            if flag < flagmax:\n",
    "                l = layerlist[flag]\n",
    "                df[\"label\"][n] = layers[l]\n",
    "                d = 1\n",
    "                c = 0\n",
    "            else:\n",
    "                df[\"label\"][n] = 0\n",
    "\n",
    "    #df.describe()\n",
    "    df.to_csv('data/labeled/auto_'+str(i+1)+csv_filename, encoding='utf-8', index=False)"
   ]
  },
  {
   "cell_type": "code",
   "execution_count": null,
   "metadata": {},
   "outputs": [],
   "source": []
  }
 ],
 "metadata": {
  "kernelspec": {
   "display_name": "Python 3",
   "language": "python",
   "name": "python3"
  },
  "language_info": {
   "codemirror_mode": {
    "name": "ipython",
    "version": 3
   },
   "file_extension": ".py",
   "mimetype": "text/x-python",
   "name": "python",
   "nbconvert_exporter": "python",
   "pygments_lexer": "ipython3",
   "version": "3.8.5"
  }
 },
 "nbformat": 4,
 "nbformat_minor": 4
}
