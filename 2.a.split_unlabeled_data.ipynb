{
 "cells": [
  {
   "cell_type": "code",
   "execution_count": 1,
   "metadata": {},
   "outputs": [
    {
     "data": {
      "text/html": [
       "<div>\n",
       "<style scoped>\n",
       "    .dataframe tbody tr th:only-of-type {\n",
       "        vertical-align: middle;\n",
       "    }\n",
       "\n",
       "    .dataframe tbody tr th {\n",
       "        vertical-align: top;\n",
       "    }\n",
       "\n",
       "    .dataframe thead th {\n",
       "        text-align: right;\n",
       "    }\n",
       "</style>\n",
       "<table border=\"1\" class=\"dataframe\">\n",
       "  <thead>\n",
       "    <tr style=\"text-align: right;\">\n",
       "      <th></th>\n",
       "      <th>branches</th>\n",
       "      <th>cache_misses</th>\n",
       "      <th>cache_references</th>\n",
       "      <th>instructions</th>\n",
       "    </tr>\n",
       "  </thead>\n",
       "  <tbody>\n",
       "    <tr>\n",
       "      <th>0</th>\n",
       "      <td>2038</td>\n",
       "      <td>863</td>\n",
       "      <td>85</td>\n",
       "      <td>9042</td>\n",
       "    </tr>\n",
       "    <tr>\n",
       "      <th>1</th>\n",
       "      <td>35938</td>\n",
       "      <td>9123</td>\n",
       "      <td>469</td>\n",
       "      <td>163527</td>\n",
       "    </tr>\n",
       "    <tr>\n",
       "      <th>2</th>\n",
       "      <td>28016</td>\n",
       "      <td>5782</td>\n",
       "      <td>88</td>\n",
       "      <td>116747</td>\n",
       "    </tr>\n",
       "    <tr>\n",
       "      <th>3</th>\n",
       "      <td>10328</td>\n",
       "      <td>3762</td>\n",
       "      <td>125</td>\n",
       "      <td>39582</td>\n",
       "    </tr>\n",
       "    <tr>\n",
       "      <th>4</th>\n",
       "      <td>22260</td>\n",
       "      <td>1459</td>\n",
       "      <td>501</td>\n",
       "      <td>96196</td>\n",
       "    </tr>\n",
       "  </tbody>\n",
       "</table>\n",
       "</div>"
      ],
      "text/plain": [
       "   branches  cache_misses  cache_references  instructions\n",
       "0      2038           863                85          9042\n",
       "1     35938          9123               469        163527\n",
       "2     28016          5782                88        116747\n",
       "3     10328          3762               125         39582\n",
       "4     22260          1459               501         96196"
      ]
     },
     "execution_count": 1,
     "metadata": {},
     "output_type": "execute_result"
    }
   ],
   "source": [
    "import pandas as pd\n",
    "import numpy as np\n",
    "\n",
    "#filename = \"vgg16_list1_data.csv\"\n",
    "#filename = \"resnet_list1_data.csv\"\n",
    "#filename = \"alexnet_list1_data.csv\"\n",
    "\n",
    "#filename = \"vgg19_list1_data.csv\"\n",
    "#filename = \"mobilenet_list1_data.csv\"\n",
    "filename = \"densenet_list1_data.csv\"\n",
    "\n",
    "df = pd.read_csv('data/'+filename)\n",
    "df.head()"
   ]
  },
  {
   "cell_type": "code",
   "execution_count": 2,
   "metadata": {},
   "outputs": [
    {
     "name": "stdout",
     "output_type": "stream",
     "text": [
      "955386\n"
     ]
    }
   ],
   "source": [
    "r = len(df[\"branches\"])\n",
    "print(r)\n",
    "markers = list()\n",
    "\n",
    "count = 0\n",
    "for n in range(r):\n",
    "    if(df[\"branches\"][n] == 0):\n",
    "        count = count + 1\n",
    "            \n",
    "    elif(df[\"branches\"][n] > 0):\n",
    "        if(count > 3000):\n",
    "            markers.append(n)\n",
    "        count = 0"
   ]
  },
  {
   "cell_type": "code",
   "execution_count": 3,
   "metadata": {},
   "outputs": [
    {
     "data": {
      "text/plain": [
       "[208395,\n",
       " 292626,\n",
       " 374417,\n",
       " 455936,\n",
       " 537232,\n",
       " 618750,\n",
       " 700515,\n",
       " 782353,\n",
       " 863778,\n",
       " 945305]"
      ]
     },
     "execution_count": 3,
     "metadata": {},
     "output_type": "execute_result"
    }
   ],
   "source": [
    "markers"
   ]
  },
  {
   "cell_type": "code",
   "execution_count": 4,
   "metadata": {},
   "outputs": [],
   "source": [
    "x = 1\n",
    "r = len(markers)\n",
    "for i in range(r-1):\n",
    "    df_temp = df.loc[markers[i]-500:markers[i+1]]\n",
    "    df_temp.to_csv(\"data/split/\"+str(x)+'_'+filename, encoding='utf-8', index=False)\n",
    "    x = x+1"
   ]
  },
  {
   "cell_type": "code",
   "execution_count": null,
   "metadata": {},
   "outputs": [],
   "source": []
  }
 ],
 "metadata": {
  "kernelspec": {
   "display_name": "Python 3",
   "language": "python",
   "name": "python3"
  },
  "language_info": {
   "codemirror_mode": {
    "name": "ipython",
    "version": 3
   },
   "file_extension": ".py",
   "mimetype": "text/x-python",
   "name": "python",
   "nbconvert_exporter": "python",
   "pygments_lexer": "ipython3",
   "version": "3.8.5"
  }
 },
 "nbformat": 4,
 "nbformat_minor": 4
}
