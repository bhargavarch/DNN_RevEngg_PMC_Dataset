{
 "cells": [
  {
   "cell_type": "code",
   "execution_count": 9,
   "metadata": {},
   "outputs": [],
   "source": [
    "import pandas as pd\n",
    "\n",
    "txt_filename = \"data/densenet_arch.txt\"\n",
    "csv_filename = \"data/split/4_densenet_list1_data.csv\"\n",
    "csv_output = \"data/labeled/test_output.csv\"\n",
    "\n",
    "wordlist = list()\n",
    "layerlist = list()\n",
    "\n",
    "layers = {'(InputLayer)': 0, '(Lambda)': 0,\n",
    "          '(MaxPooling2D)': 900, '(GlobalAveragePooling2D)': 910,\n",
    "          '(Dense)': 500, '(Flatten)': 400, '(Dropout)': 700, '(Conv2D)': 600,\n",
    "          '(BatchNormalization)': 200, '(Activation)': 300, '(ReLU)': 310}"
   ]
  },
  {
   "cell_type": "code",
   "execution_count": 10,
   "metadata": {},
   "outputs": [
    {
     "name": "stdout",
     "output_type": "stream",
     "text": [
      "['input_1 (InputLayer)', 'lambda (Lambda)', 'conv2d (Conv2D)', 'lambda_1 (Lambda)', 'max_pooling2d (MaxPooling2D)', 'lambda_2 (Lambda)', 'conv2d_1 (Conv2D)', 'lambda_3 (Lambda)', 'batch_normalization (BatchNormalization)', 'lambda_4 (Lambda)', 're_lu (ReLU)', 'lambda_5 (Lambda)', 'conv2d_2 (Conv2D)', 'lambda_6 (Lambda)', 'batch_normalization_1 (BatchNormalization)', 'lambda_7 (Lambda)', 're_lu_1 (ReLU)', 'lambda_8 (Lambda)', 'conv2d_3 (Conv2D)', 'lambda_9 (Lambda)', 'batch_normalization_2 (BatchNormalization)', 'lambda_10 (Lambda)', 're_lu_2 (ReLU)', 'lambda_11 (Lambda)', 'conv2d_4 (Conv2D)', 'lambda_12 (Lambda)', 'batch_normalization_3 (BatchNormalization)', 'lambda_13 (Lambda)', 're_lu_3 (ReLU)', 'lambda_14 (Lambda)', 'conv2d_5 (Conv2D)', 'lambda_15 (Lambda)', 'batch_normalization_4 (BatchNormalization)', 'lambda_16 (Lambda)', 're_lu_4 (ReLU)', 'lambda_17 (Lambda)', 'conv2d_6 (Conv2D)', 'lambda_18 (Lambda)', 'batch_normalization_5 (BatchNormalization)', 'lambda_19 (Lambda)', 're_lu_5 (ReLU)', 'lambda_20 (Lambda)', 'conv2d_7 (Conv2D)', 'lambda_21 (Lambda)', 'batch_normalization_6 (BatchNormalization)', 'lambda_22 (Lambda)', 're_lu_6 (ReLU)', 'lambda_23 (Lambda)', 'conv2d_8 (Conv2D)', 'lambda_24 (Lambda)', 'batch_normalization_7 (BatchNormalization)', 'lambda_25 (Lambda)', 're_lu_7 (ReLU)', 'lambda_26 (Lambda)', 'conv2d_9 (Conv2D)', 'lambda_27 (Lambda)', 'batch_normalization_8 (BatchNormalization)', 'lambda_28 (Lambda)', 're_lu_8 (ReLU)', 'lambda_29 (Lambda)', 'conv2d_10 (Conv2D)', 'lambda_30 (Lambda)', 'batch_normalization_9 (BatchNormalization)', 'lambda_31 (Lambda)', 're_lu_9 (ReLU)', 'lambda_32 (Lambda)', 'conv2d_11 (Conv2D)', 'lambda_33 (Lambda)', 'batch_normalization_10 (BatchNormalization)', 'lambda_34 (Lambda)', 're_lu_10 (ReLU)', 'lambda_35 (Lambda)', 'conv2d_12 (Conv2D)', 'lambda_36 (Lambda)', 'batch_normalization_11 (BatchNormalization)', 'lambda_37 (Lambda)', 're_lu_11 (ReLU)', 'lambda_38 (Lambda)', 'conv2d_13 (Conv2D)', 'lambda_39 (Lambda)', 'batch_normalization_12 (BatchNormalization)', 'lambda_40 (Lambda)', 're_lu_12 (ReLU)', 'lambda_41 (Lambda)', 'conv2d_14 (Conv2D)', 'lambda_42 (Lambda)', 'batch_normalization_13 (BatchNormalization)', 'lambda_43 (Lambda)', 're_lu_13 (ReLU)', 'lambda_44 (Lambda)', 'conv2d_15 (Conv2D)', 'lambda_45 (Lambda)', 'batch_normalization_14 (BatchNormalization)', 'lambda_46 (Lambda)', 're_lu_14 (ReLU)', 'lambda_47 (Lambda)', 'conv2d_16 (Conv2D)', 'lambda_48 (Lambda)', 'batch_normalization_15 (BatchNormalization)', 'lambda_49 (Lambda)', 're_lu_15 (ReLU)', 'lambda_50 (Lambda)', 'global_average_pooling2d (GlobalAveragePooling2D)', 'lambda_51 (Lambda)', 'dense (Dense)', 'lambda_52 (Lambda)']\n"
     ]
    }
   ],
   "source": [
    "with open(txt_filename, \"r\") as file:\n",
    "    data = file.readlines()\n",
    "    i = 0\n",
    "    for line in data:\n",
    "        word = line.split()\n",
    "        if(i%2 == 0):\n",
    "            if(len(word)>1):\n",
    "                s = word[0] + \" \" + word[1]\n",
    "            else:\n",
    "                s = word[0]\n",
    "\n",
    "            wordlist.append(s)\n",
    "        i= i+1\n",
    "\n",
    "wordlist.pop(0)\n",
    "wordlist.pop(0)\n",
    "n = len(wordlist)\n",
    "wordlist.pop(n-1)\n",
    "wordlist.pop(n-2)\n",
    "wordlist.pop(n-3)\n",
    "print(wordlist)"
   ]
  },
  {
   "cell_type": "code",
   "execution_count": 11,
   "metadata": {},
   "outputs": [
    {
     "name": "stdout",
     "output_type": "stream",
     "text": [
      "{'(InputLayer)': 0, '(Lambda)': 0, '(MaxPooling2D)': 900, '(GlobalAveragePooling2D)': 910, '(Dense)': 500, '(Flatten)': 400, '(Dropout)': 700, '(Conv2D)': 600, '(BatchNormalization)': 200, '(Activation)': 300, '(ReLU)': 310}\n"
     ]
    }
   ],
   "source": [
    "j = 1\n",
    "for i in range(len(wordlist) - 1 ):\n",
    "    w = wordlist[i].split()\n",
    "    if(w[1] != \"(Lambda)\"):\n",
    "        layerlist.append(w[1])\n",
    "    if w[1] in layers:\n",
    "        pass\n",
    "    else:\n",
    "        layers[w[1]] = j\n",
    "        j = j + 1\n",
    "\n",
    "print(layers)"
   ]
  },
  {
   "cell_type": "code",
   "execution_count": 12,
   "metadata": {},
   "outputs": [
    {
     "name": "stdout",
     "output_type": "stream",
     "text": [
      "['(InputLayer)', '(Conv2D)', '(MaxPooling2D)', '(Conv2D)', '(BatchNormalization)', '(ReLU)', '(Conv2D)', '(BatchNormalization)', '(ReLU)', '(Conv2D)', '(BatchNormalization)', '(ReLU)', '(Conv2D)', '(BatchNormalization)', '(ReLU)', '(Conv2D)', '(BatchNormalization)', '(ReLU)', '(Conv2D)', '(BatchNormalization)', '(ReLU)', '(Conv2D)', '(BatchNormalization)', '(ReLU)', '(Conv2D)', '(BatchNormalization)', '(ReLU)', '(Conv2D)', '(BatchNormalization)', '(ReLU)', '(Conv2D)', '(BatchNormalization)', '(ReLU)', '(Conv2D)', '(BatchNormalization)', '(ReLU)', '(Conv2D)', '(BatchNormalization)', '(ReLU)', '(Conv2D)', '(BatchNormalization)', '(ReLU)', '(Conv2D)', '(BatchNormalization)', '(ReLU)', '(Conv2D)', '(BatchNormalization)', '(ReLU)', '(Conv2D)', '(BatchNormalization)', '(ReLU)', '(GlobalAveragePooling2D)', '(Dense)']\n"
     ]
    }
   ],
   "source": [
    "print(layerlist)"
   ]
  },
  {
   "cell_type": "code",
   "execution_count": 30,
   "metadata": {},
   "outputs": [],
   "source": [
    "df = pd.read_csv(csv_filename)\n",
    "df[\"label\"] = \"\"\n",
    "r = len(df[\"branches\"])\n",
    "#print(r)\n",
    "flag = -1\n",
    "c = 0\n",
    "d = 1\n",
    "\n",
    "flagmax = len(layerlist)"
   ]
  },
  {
   "cell_type": "code",
   "execution_count": 31,
   "metadata": {},
   "outputs": [
    {
     "name": "stderr",
     "output_type": "stream",
     "text": [
      "<ipython-input-31-83646b70279a>:4: SettingWithCopyWarning: \n",
      "A value is trying to be set on a copy of a slice from a DataFrame\n",
      "\n",
      "See the caveats in the documentation: https://pandas.pydata.org/pandas-docs/stable/user_guide/indexing.html#returning-a-view-versus-a-copy\n",
      "  df[\"label\"][n] = 0\n",
      "<ipython-input-31-83646b70279a>:14: SettingWithCopyWarning: \n",
      "A value is trying to be set on a copy of a slice from a DataFrame\n",
      "\n",
      "See the caveats in the documentation: https://pandas.pydata.org/pandas-docs/stable/user_guide/indexing.html#returning-a-view-versus-a-copy\n",
      "  df[\"label\"][n] = layers[l]\n"
     ]
    },
    {
     "name": "stdout",
     "output_type": "stream",
     "text": [
      "0 120\n",
      "1 656\n",
      "2 868\n",
      "3 1052\n",
      "4 1280\n",
      "5 1445\n",
      "6 1598\n",
      "7 1825\n",
      "8 1989\n",
      "9 2143\n",
      "10 2368\n",
      "11 2532\n",
      "12 2685\n",
      "13 2912\n",
      "14 3077\n",
      "15 3230\n",
      "16 3413\n",
      "17 3573\n",
      "18 3726\n",
      "19 3894\n",
      "20 4050\n",
      "21 4201\n",
      "22 4368\n",
      "23 4524\n",
      "24 4674\n",
      "25 4841\n",
      "26 4998\n",
      "27 5148\n",
      "28 5309\n",
      "29 5466\n",
      "30 5616\n",
      "31 5780\n",
      "32 5936\n",
      "33 6086\n",
      "34 6250\n",
      "35 6405\n",
      "36 6555\n",
      "37 6720\n",
      "38 6875\n",
      "39 7026\n",
      "40 7197\n",
      "41 7352\n",
      "42 7503\n",
      "43 7713\n",
      "44 7869\n",
      "45 8019\n",
      "46 8225\n",
      "47 8381\n",
      "48 8531\n",
      "49 8742\n",
      "50 8897\n",
      "51 9048\n",
      "52 9201\n",
      "53 9361\n"
     ]
    },
    {
     "name": "stderr",
     "output_type": "stream",
     "text": [
      "<ipython-input-31-83646b70279a>:18: SettingWithCopyWarning: \n",
      "A value is trying to be set on a copy of a slice from a DataFrame\n",
      "\n",
      "See the caveats in the documentation: https://pandas.pydata.org/pandas-docs/stable/user_guide/indexing.html#returning-a-view-versus-a-copy\n",
      "  df[\"label\"][n] = 0\n"
     ]
    }
   ],
   "source": [
    "for n in range(r):\n",
    "    val = df[\"branches\"][n] + df[\"cache_misses\"][n] + df[\"cache_references\"][n] + df[\"instructions\"][n]\n",
    "    if(val == 0):\n",
    "        df[\"label\"][n] = 0\n",
    "        c = c + 1\n",
    "        if c > 120 and d == 1:\n",
    "            flag = flag + 1\n",
    "            d = 0\n",
    "            print(flag, n)\n",
    "            c = 0\n",
    "    else:\n",
    "        if flag < flagmax:\n",
    "            l = layerlist[flag]\n",
    "            df[\"label\"][n] = layers[l]\n",
    "            d = 1\n",
    "            c = 0\n",
    "        else:\n",
    "            df[\"label\"][n] = 0\n"
   ]
  },
  {
   "cell_type": "code",
   "execution_count": 32,
   "metadata": {},
   "outputs": [],
   "source": [
    "#df.describe()\n",
    "df.to_csv(csv_output, encoding='utf-8', index=False)"
   ]
  },
  {
   "cell_type": "code",
   "execution_count": null,
   "metadata": {},
   "outputs": [],
   "source": []
  }
 ],
 "metadata": {
  "kernelspec": {
   "display_name": "Python 3",
   "language": "python",
   "name": "python3"
  },
  "language_info": {
   "codemirror_mode": {
    "name": "ipython",
    "version": 3
   },
   "file_extension": ".py",
   "mimetype": "text/x-python",
   "name": "python",
   "nbconvert_exporter": "python",
   "pygments_lexer": "ipython3",
   "version": "3.8.5"
  }
 },
 "nbformat": 4,
 "nbformat_minor": 4
}
